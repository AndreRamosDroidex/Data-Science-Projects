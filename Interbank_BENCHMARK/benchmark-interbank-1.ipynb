{
 "cells": [
  {
   "cell_type": "code",
   "execution_count": 1,
   "metadata": {
    "_cell_guid": "b1076dfc-b9ad-4769-8c92-a6c4dae69d19",
    "_uuid": "8f2839f25d086af736a60e9eeb907d3b93b6e0e5"
   },
   "outputs": [],
   "source": [
    "import pandas as pd"
   ]
  },
  {
   "cell_type": "markdown",
   "metadata": {},
   "source": [
    "## Lectura de Datos\n",
    "\n",
    "Se leerán las bases básicas, que solo tienen registros a nivel de usuario. Sólo se leerá la información de campaña que dependa del tiempo. Queda para mejorar, la incorporacion de más informaición temporal. "
   ]
  },
  {
   "cell_type": "code",
   "execution_count": 2,
   "metadata": {
    "_cell_guid": "79c7e3d0-c299-4dcb-8224-4455121ee9b0",
    "_uuid": "d629ff2d2480ee46fbb7e2d37f6b5fab8052498a"
   },
   "outputs": [],
   "source": [
    "train = pd.read_csv(\"/kaggle/input/interbank-internacional-2019/ib_base_inicial_train/ib_base_inicial_train.csv\")\n",
    "X_test = pd.read_csv(\"/kaggle/input/interbank-internacional-2019/ib_base_inicial_test/ib_base_inicial_test.csv\")\n",
    "\n",
    "sunat = pd.read_csv(\"/kaggle/input/interbank-internacional-2019/ib_base_sunat/ib_base_sunat.csv\")\n",
    "reniec = pd.read_csv(\"/kaggle/input/interbank-internacional-2019/ib_base_reniec/ib_base_reniec.csv\")\n",
    "vehicular = pd.read_csv(\"/kaggle/input/interbank-internacional-2019/ib_base_vehicular/ib_base_vehicular.csv\")\n",
    "campanias = pd.read_csv(\"/kaggle/input/interbank-internacional-2019/ib_base_campanias/ib_base_campanias.csv\")"
   ]
  },
  {
   "cell_type": "markdown",
   "metadata": {},
   "source": [
    "## Creación del Target de predicción\n",
    "\n",
    "Se opta por construir un target binario, para establecer quienes son clientes rentables y, por tanto, es conveniente hacerles campaña para atraerlos. "
   ]
  },
  {
   "cell_type": "code",
   "execution_count": 3,
   "metadata": {},
   "outputs": [],
   "source": [
    "y_train = train[['codmes', 'id_persona', 'margen']].copy()\n",
    "y_train[\"prediction_id\"] = y_train[\"id_persona\"].astype(str) + \"_\" + y_train[\"codmes\"].astype(str)\n",
    "y_train[\"target\"] = (y_train[\"margen\"] > 0).astype(int)\n",
    "y_train = y_train.set_index(\"prediction_id\")\n",
    "X_train = train.drop([\"codtarget\", \"margen\"], axis=1)\n",
    "X_train[\"prediction_id\"] = X_train[\"id_persona\"].astype(str) + \"_\" + X_train[\"codmes\"].astype(str)\n",
    "del train"
   ]
  },
  {
   "cell_type": "markdown",
   "metadata": {},
   "source": [
    "## Consolidación de Bases\n",
    "\n",
    "Se unene todas las bases por id_persona"
   ]
  },
  {
   "cell_type": "code",
   "execution_count": 4,
   "metadata": {},
   "outputs": [],
   "source": [
    "sunat = sunat.groupby([\"id_persona\", \"activ_econo\"]).meses_alta.sum().unstack(level=1, fill_value=0).astype(\"int32\")\n",
    "vehicular1 = vehicular.groupby([\"id_persona\", \"marca\"]).veh_var1.sum().unstack(level=1, fill_value=0).astype(\"float32\")\n",
    "vehicular2 = vehicular.groupby([\"id_persona\", \"marca\"]).veh_var2.sum().unstack(level=1, fill_value=0).astype(\"float32\")\n",
    "reniec = reniec.set_index(\"id_persona\").astype(\"float32\")\n",
    "del vehicular"
   ]
  },
  {
   "cell_type": "code",
   "execution_count": 5,
   "metadata": {},
   "outputs": [],
   "source": [
    "vehicular1.columns = [c + \"_v1\" for c in vehicular1.columns]\n",
    "vehicular2.columns = [c + \"_v2\" for c in vehicular2.columns]"
   ]
  },
  {
   "cell_type": "code",
   "execution_count": 6,
   "metadata": {},
   "outputs": [],
   "source": [
    "X_train = X_train.set_index(\"prediction_id\").astype(\"int32\").reset_index().set_index(\"id_persona\").join(vehicular1).join(vehicular2).join(reniec).join(sunat)\n",
    "X_test = X_test.set_index(\"prediction_id\").astype(\"int32\").reset_index().set_index(\"id_persona\").join(vehicular1).join(vehicular2).join(reniec).join(sunat)\n",
    "del vehicular1, vehicular2, reniec, sunat"
   ]
  },
  {
   "cell_type": "code",
   "execution_count": 7,
   "metadata": {},
   "outputs": [],
   "source": [
    "camp_canal = campanias.groupby([\"codmes\", \"id_persona\", \"canal_asignado\"]).size().unstack(level=2, fill_value=0).reset_index().set_index(\"codmes\").sort_index().astype(\"int32\")\n",
    "camp_prod = campanias.groupby([\"codmes\", \"id_persona\", \"producto\"]).size().unstack(level=2, fill_value=0).reset_index().set_index(\"codmes\").sort_index().astype(\"int32\")\n",
    "del campanias"
   ]
  },
  {
   "cell_type": "code",
   "execution_count": 8,
   "metadata": {},
   "outputs": [
    {
     "data": {
      "text/plain": [
       "11"
      ]
     },
     "execution_count": 8,
     "metadata": {},
     "output_type": "execute_result"
    }
   ],
   "source": [
    "import gc\n",
    "gc.collect()"
   ]
  },
  {
   "cell_type": "code",
   "execution_count": 9,
   "metadata": {},
   "outputs": [
    {
     "name": "stdout",
     "output_type": "stream",
     "text": [
      "********** 201901 **********\n",
      "********** 201902 **********\n",
      "********** 201903 **********\n",
      "********** 201904 **********\n",
      "********** 201905 **********\n",
      "********** 201906 **********\n",
      "********** 201907 **********\n",
      "contatenando complementos\n",
      "X_train join\n",
      "X_test join\n"
     ]
    },
    {
     "data": {
      "text/plain": [
       "0"
      ]
     },
     "execution_count": 9,
     "metadata": {},
     "output_type": "execute_result"
    }
   ],
   "source": [
    "meses = {\n",
    "    201901: slice(201808, 201810),\n",
    "    201902: slice(201809, 201811),\n",
    "    201903: slice(201810, 201812),\n",
    "    201904: slice(201811, 201901),\n",
    "    201905: slice(201812, 201902),\n",
    "    201906: slice(201901, 201903),\n",
    "    201907: slice(201902, 201904)\n",
    "}\n",
    "\n",
    "complementos = []\n",
    "for mes in meses.keys():\n",
    "    print(\"*\"*10, mes, \"*\"*10)\n",
    "    res = pd.concat([\n",
    "        camp_canal.loc[meses[mes]].groupby(\"id_persona\").sum(),\n",
    "        camp_prod.loc[meses[mes]].groupby(\"id_persona\").sum()\n",
    "        \n",
    "    ], axis=1)\n",
    "    res[\"codmes\"] = mes\n",
    "    res = res.reset_index().set_index([\"id_persona\", \"codmes\"]).astype(\"float32\")\n",
    "    complementos.append(res)\n",
    "\n",
    "gc.collect()\n",
    "print(\"contatenando complementos\")\n",
    "complementos = pd.concat(complementos)\n",
    "gc.collect()\n",
    "print(\"X_train join\")\n",
    "X_train = X_train.reset_index().join(complementos, on=[\"id_persona\", \"codmes\"]).set_index(\"prediction_id\")\n",
    "gc.collect()\n",
    "print(\"X_test join\")\n",
    "X_test = X_test.reset_index().join(complementos, on=[\"id_persona\", \"codmes\"]).set_index(\"prediction_id\")\n",
    "gc.collect()\n",
    "\n",
    "del camp_canal, camp_prod, complementos,res\n",
    "gc.collect()"
   ]
  },
  {
   "cell_type": "markdown",
   "metadata": {},
   "source": [
    "## Renombrado de Variables con nombre no ascii\n",
    "\n",
    "El algoritmo que usamos no se lleva bien con cadenas de texto con caracteres especiales, las renombramos."
   ]
  },
  {
   "cell_type": "code",
   "execution_count": 10,
   "metadata": {},
   "outputs": [
    {
     "data": {
      "text/plain": [
       "['LIMA MOTORÂ´S_v1',\n",
       " 'VICTORIA MOTORÂ´S_v1',\n",
       " 'VILMENÂ¨S_v1',\n",
       " 'LIMA MOTORÂ´S_v2',\n",
       " 'VICTORIA MOTORÂ´S_v2',\n",
       " 'VILMENÂ¨S_v2',\n",
       " 'Adquisición Convenios',\n",
       " 'Adquisición TC',\n",
       " 'Alcancía',\n",
       " 'CD Préstamos',\n",
       " 'Crédito Hipotecario',\n",
       " 'Crédito Vehicular',\n",
       " 'Depósito a Plazo',\n",
       " 'Depósito a Plazo Jubilacion',\n",
       " 'Depósito a Plazo Renovacion',\n",
       " 'Déposito a Plazo Renovacion',\n",
       " 'Membresía',\n",
       " 'Préstamo Express',\n",
       " 'Préstamos Personales',\n",
       " 'Préstamos Reenganche',\n",
       " 'Retención']"
      ]
     },
     "execution_count": 10,
     "metadata": {},
     "output_type": "execute_result"
    }
   ],
   "source": [
    "non_ascii = X_train.columns[[not all(ord(c) < 128 for c in s) for s in X_train.columns]].tolist()\n",
    "non_ascii"
   ]
  },
  {
   "cell_type": "code",
   "execution_count": 11,
   "metadata": {},
   "outputs": [],
   "source": [
    "for i, c in enumerate(non_ascii):\n",
    "    X_train[\"non_ascii_\" + str(i)] = X_train[c]\n",
    "    X_train = X_train.drop(c, axis= 1)\n",
    "    X_test[\"non_ascii_\" + str(i)] = X_test[c]\n",
    "    X_test = X_test.drop(c, axis= 1)"
   ]
  },
  {
   "cell_type": "markdown",
   "metadata": {},
   "source": [
    "## Entrenamiento del Modelo\n",
    "\n",
    "Se entrena un modelo con valores en default, pero optimizando en nro de estimadores inferiores, con validación basada en meses."
   ]
  },
  {
   "cell_type": "code",
   "execution_count": 12,
   "metadata": {},
   "outputs": [
    {
     "name": "stdout",
     "output_type": "stream",
     "text": [
      "********** 201902 **********\n",
      "Training until validation scores don't improve for 10 rounds\n",
      "[50]\ttraining's auc: 0.781409\ttraining's binary_logloss: 0.274736\tvalid_1's auc: 0.717946\tvalid_1's binary_logloss: 0.291606\n",
      "Early stopping, best iteration is:\n",
      "[76]\ttraining's auc: 0.792861\ttraining's binary_logloss: 0.270832\tvalid_1's auc: 0.719605\tvalid_1's binary_logloss: 0.291291\n",
      "********** 201904 **********\n",
      "Training until validation scores don't improve for 10 rounds\n",
      "[50]\ttraining's auc: 0.770439\ttraining's binary_logloss: 0.274381\tvalid_1's auc: 0.763971\tvalid_1's binary_logloss: 0.288995\n",
      "Early stopping, best iteration is:\n",
      "[55]\ttraining's auc: 0.773112\ttraining's binary_logloss: 0.273532\tvalid_1's auc: 0.76424\tvalid_1's binary_logloss: 0.288845\n",
      "********** 201901 **********\n",
      "Training until validation scores don't improve for 10 rounds\n",
      "[50]\ttraining's auc: 0.776134\ttraining's binary_logloss: 0.288832\tvalid_1's auc: 0.737187\tvalid_1's binary_logloss: 0.247373\n",
      "Early stopping, best iteration is:\n",
      "[50]\ttraining's auc: 0.776134\ttraining's binary_logloss: 0.288832\tvalid_1's auc: 0.737187\tvalid_1's binary_logloss: 0.247373\n",
      "********** 201903 **********\n",
      "Training until validation scores don't improve for 10 rounds\n",
      "[50]\ttraining's auc: 0.772556\ttraining's binary_logloss: 0.267028\tvalid_1's auc: 0.755897\tvalid_1's binary_logloss: 0.31298\n",
      "Early stopping, best iteration is:\n",
      "[65]\ttraining's auc: 0.779989\ttraining's binary_logloss: 0.264657\tvalid_1's auc: 0.756898\tvalid_1's binary_logloss: 0.31257\n"
     ]
    }
   ],
   "source": [
    "from lightgbm import LGBMClassifier\n",
    "drop_cols = [\"codmes\"]\n",
    "fi = []\n",
    "test_probs = []\n",
    "train_probs = []\n",
    "for mes in X_train.codmes.unique():\n",
    "    print(\"*\"*10, mes, \"*\"*10)\n",
    "    Xt = X_train[X_train.codmes != mes]\n",
    "    yt = y_train.loc[Xt.index, \"target\"]\n",
    "    Xt = Xt.drop(drop_cols, axis=1)\n",
    "\n",
    "    Xv = X_train[X_train.codmes == mes]\n",
    "    yv = y_train.loc[Xv.index, \"target\"]\n",
    "    \n",
    "    learner = LGBMClassifier(n_estimators=10000)\n",
    "    learner.fit(Xt, yt,  early_stopping_rounds=10, eval_metric=\"auc\",\n",
    "                eval_set=[(Xt, yt), (Xv.drop(drop_cols, axis=1), yv)], verbose=50)\n",
    "    \n",
    "    test_probs.append(pd.Series(learner.predict_proba(X_test.drop(drop_cols, axis=1))[:, -1],\n",
    "                                index=X_test.index, name=\"fold_\" + str(mes)))\n",
    "    train_probs.append(pd.Series(learner.predict_proba(Xv.drop(drop_cols, axis=1))[:, -1],\n",
    "                                index=Xv.index, name=\"probs\"))\n",
    "    fi.append(pd.Series(learner.feature_importances_ / learner.feature_importances_.sum(), index=Xt.columns))\n",
    "\n",
    "test_probs = pd.concat(test_probs, axis=1).mean(axis=1)\n",
    "train_probs = pd.concat(train_probs)\n",
    "fi = pd.concat(fi, axis=1).mean(axis=1)"
   ]
  },
  {
   "cell_type": "markdown",
   "metadata": {},
   "source": [
    "## Importancia de Variables\n",
    "\n",
    "Observamos la importancia media que le dieron los modelos a cada variables"
   ]
  },
  {
   "cell_type": "code",
   "execution_count": 13,
   "metadata": {},
   "outputs": [
    {
     "data": {
      "text/html": [
       "<div>\n",
       "<style scoped>\n",
       "    .dataframe tbody tr th:only-of-type {\n",
       "        vertical-align: middle;\n",
       "    }\n",
       "\n",
       "    .dataframe tbody tr th {\n",
       "        vertical-align: top;\n",
       "    }\n",
       "\n",
       "    .dataframe thead th {\n",
       "        text-align: right;\n",
       "    }\n",
       "</style>\n",
       "<table border=\"1\" class=\"dataframe\">\n",
       "  <thead>\n",
       "    <tr style=\"text-align: right;\">\n",
       "      <th></th>\n",
       "      <th>0</th>\n",
       "    </tr>\n",
       "  </thead>\n",
       "  <tbody>\n",
       "    <tr>\n",
       "      <th>HYUNDAI_v1</th>\n",
       "      <td>0.002450</td>\n",
       "    </tr>\n",
       "    <tr>\n",
       "      <th>MAZDA_v2</th>\n",
       "      <td>0.002461</td>\n",
       "    </tr>\n",
       "    <tr>\n",
       "      <th>FFVV</th>\n",
       "      <td>0.002679</td>\n",
       "    </tr>\n",
       "    <tr>\n",
       "      <th>DODGE_v2</th>\n",
       "      <td>0.002765</td>\n",
       "    </tr>\n",
       "    <tr>\n",
       "      <th>BAJAJ_v2</th>\n",
       "      <td>0.002769</td>\n",
       "    </tr>\n",
       "    <tr>\n",
       "      <th>TOYOTA_v1</th>\n",
       "      <td>0.002839</td>\n",
       "    </tr>\n",
       "    <tr>\n",
       "      <th>HONDA_v2</th>\n",
       "      <td>0.002864</td>\n",
       "    </tr>\n",
       "    <tr>\n",
       "      <th>HYUNDAI_v2</th>\n",
       "      <td>0.003002</td>\n",
       "    </tr>\n",
       "    <tr>\n",
       "      <th>Cuenta Millonaria SuperTasa</th>\n",
       "      <td>0.003051</td>\n",
       "    </tr>\n",
       "    <tr>\n",
       "      <th>Membresia</th>\n",
       "      <td>0.003535</td>\n",
       "    </tr>\n",
       "    <tr>\n",
       "      <th>SUZUKI_v2</th>\n",
       "      <td>0.003876</td>\n",
       "    </tr>\n",
       "    <tr>\n",
       "      <th>CHEVROLET_v2</th>\n",
       "      <td>0.004303</td>\n",
       "    </tr>\n",
       "    <tr>\n",
       "      <th>Cuenta Simple</th>\n",
       "      <td>0.004347</td>\n",
       "    </tr>\n",
       "    <tr>\n",
       "      <th>NISSAN_v2</th>\n",
       "      <td>0.004371</td>\n",
       "    </tr>\n",
       "    <tr>\n",
       "      <th>Combos TC+PA</th>\n",
       "      <td>0.004407</td>\n",
       "    </tr>\n",
       "    <tr>\n",
       "      <th>Grupo_12</th>\n",
       "      <td>0.004644</td>\n",
       "    </tr>\n",
       "    <tr>\n",
       "      <th>VOLKSWAGEN_v2</th>\n",
       "      <td>0.005463</td>\n",
       "    </tr>\n",
       "    <tr>\n",
       "      <th>Grupo_13</th>\n",
       "      <td>0.005730</td>\n",
       "    </tr>\n",
       "    <tr>\n",
       "      <th>Grupo_09</th>\n",
       "      <td>0.005748</td>\n",
       "    </tr>\n",
       "    <tr>\n",
       "      <th>soc_var3</th>\n",
       "      <td>0.005871</td>\n",
       "    </tr>\n",
       "    <tr>\n",
       "      <th>ExtraCash</th>\n",
       "      <td>0.006217</td>\n",
       "    </tr>\n",
       "    <tr>\n",
       "      <th>soc_var4</th>\n",
       "      <td>0.006221</td>\n",
       "    </tr>\n",
       "    <tr>\n",
       "      <th>non_ascii_11</th>\n",
       "      <td>0.006548</td>\n",
       "    </tr>\n",
       "    <tr>\n",
       "      <th>non_ascii_9</th>\n",
       "      <td>0.006675</td>\n",
       "    </tr>\n",
       "    <tr>\n",
       "      <th>Grupo_08</th>\n",
       "      <td>0.008037</td>\n",
       "    </tr>\n",
       "    <tr>\n",
       "      <th>CD-Ataque</th>\n",
       "      <td>0.008523</td>\n",
       "    </tr>\n",
       "    <tr>\n",
       "      <th>soc_var5</th>\n",
       "      <td>0.009414</td>\n",
       "    </tr>\n",
       "    <tr>\n",
       "      <th>CTS</th>\n",
       "      <td>0.009866</td>\n",
       "    </tr>\n",
       "    <tr>\n",
       "      <th>TOYOTA_v2</th>\n",
       "      <td>0.010513</td>\n",
       "    </tr>\n",
       "    <tr>\n",
       "      <th>Cuenta Sueldo</th>\n",
       "      <td>0.011099</td>\n",
       "    </tr>\n",
       "    <tr>\n",
       "      <th>Cuenta Sueldo Independiente</th>\n",
       "      <td>0.011935</td>\n",
       "    </tr>\n",
       "    <tr>\n",
       "      <th>Grupo_04</th>\n",
       "      <td>0.012694</td>\n",
       "    </tr>\n",
       "    <tr>\n",
       "      <th>non_ascii_6</th>\n",
       "      <td>0.012772</td>\n",
       "    </tr>\n",
       "    <tr>\n",
       "      <th>Grupo_14</th>\n",
       "      <td>0.013745</td>\n",
       "    </tr>\n",
       "    <tr>\n",
       "      <th>soc_var2</th>\n",
       "      <td>0.013853</td>\n",
       "    </tr>\n",
       "    <tr>\n",
       "      <th>non_ascii_17</th>\n",
       "      <td>0.015786</td>\n",
       "    </tr>\n",
       "    <tr>\n",
       "      <th>Combos</th>\n",
       "      <td>0.017188</td>\n",
       "    </tr>\n",
       "    <tr>\n",
       "      <th>Grupo_07</th>\n",
       "      <td>0.017871</td>\n",
       "    </tr>\n",
       "    <tr>\n",
       "      <th>non_ascii_18</th>\n",
       "      <td>0.019092</td>\n",
       "    </tr>\n",
       "    <tr>\n",
       "      <th>non_ascii_7</th>\n",
       "      <td>0.021856</td>\n",
       "    </tr>\n",
       "    <tr>\n",
       "      <th>Grupo_15</th>\n",
       "      <td>0.024746</td>\n",
       "    </tr>\n",
       "    <tr>\n",
       "      <th>Grupo_11</th>\n",
       "      <td>0.025005</td>\n",
       "    </tr>\n",
       "    <tr>\n",
       "      <th>TELEVENTAS</th>\n",
       "      <td>0.030348</td>\n",
       "    </tr>\n",
       "    <tr>\n",
       "      <th>RED DE TIENDAS</th>\n",
       "      <td>0.037473</td>\n",
       "    </tr>\n",
       "    <tr>\n",
       "      <th>id_persona</th>\n",
       "      <td>0.057667</td>\n",
       "    </tr>\n",
       "    <tr>\n",
       "      <th>soc_var6</th>\n",
       "      <td>0.066922</td>\n",
       "    </tr>\n",
       "    <tr>\n",
       "      <th>ingreso_neto</th>\n",
       "      <td>0.078278</td>\n",
       "    </tr>\n",
       "    <tr>\n",
       "      <th>soc_var1</th>\n",
       "      <td>0.093911</td>\n",
       "    </tr>\n",
       "    <tr>\n",
       "      <th>cem</th>\n",
       "      <td>0.102488</td>\n",
       "    </tr>\n",
       "    <tr>\n",
       "      <th>linea_ofrecida</th>\n",
       "      <td>0.111382</td>\n",
       "    </tr>\n",
       "  </tbody>\n",
       "</table>\n",
       "</div>"
      ],
      "text/plain": [
       "                                    0\n",
       "HYUNDAI_v1                   0.002450\n",
       "MAZDA_v2                     0.002461\n",
       "FFVV                         0.002679\n",
       "DODGE_v2                     0.002765\n",
       "BAJAJ_v2                     0.002769\n",
       "TOYOTA_v1                    0.002839\n",
       "HONDA_v2                     0.002864\n",
       "HYUNDAI_v2                   0.003002\n",
       "Cuenta Millonaria SuperTasa  0.003051\n",
       "Membresia                    0.003535\n",
       "SUZUKI_v2                    0.003876\n",
       "CHEVROLET_v2                 0.004303\n",
       "Cuenta Simple                0.004347\n",
       "NISSAN_v2                    0.004371\n",
       "Combos TC+PA                 0.004407\n",
       "Grupo_12                     0.004644\n",
       "VOLKSWAGEN_v2                0.005463\n",
       "Grupo_13                     0.005730\n",
       "Grupo_09                     0.005748\n",
       "soc_var3                     0.005871\n",
       "ExtraCash                    0.006217\n",
       "soc_var4                     0.006221\n",
       "non_ascii_11                 0.006548\n",
       "non_ascii_9                  0.006675\n",
       "Grupo_08                     0.008037\n",
       "CD-Ataque                    0.008523\n",
       "soc_var5                     0.009414\n",
       "CTS                          0.009866\n",
       "TOYOTA_v2                    0.010513\n",
       "Cuenta Sueldo                0.011099\n",
       "Cuenta Sueldo Independiente  0.011935\n",
       "Grupo_04                     0.012694\n",
       "non_ascii_6                  0.012772\n",
       "Grupo_14                     0.013745\n",
       "soc_var2                     0.013853\n",
       "non_ascii_17                 0.015786\n",
       "Combos                       0.017188\n",
       "Grupo_07                     0.017871\n",
       "non_ascii_18                 0.019092\n",
       "non_ascii_7                  0.021856\n",
       "Grupo_15                     0.024746\n",
       "Grupo_11                     0.025005\n",
       "TELEVENTAS                   0.030348\n",
       "RED DE TIENDAS               0.037473\n",
       "id_persona                   0.057667\n",
       "soc_var6                     0.066922\n",
       "ingreso_neto                 0.078278\n",
       "soc_var1                     0.093911\n",
       "cem                          0.102488\n",
       "linea_ofrecida               0.111382"
      ]
     },
     "execution_count": 13,
     "metadata": {},
     "output_type": "execute_result"
    }
   ],
   "source": [
    "fi.sort_values().tail(50).to_frame()"
   ]
  },
  {
   "cell_type": "markdown",
   "metadata": {},
   "source": [
    "## Optimización de punto de corte\n",
    "\n",
    "Con las probabilidades calculadas en validación, calcularmos el punto de corte optimo para maximizar la ecuación económica de la empresa"
   ]
  },
  {
   "cell_type": "code",
   "execution_count": 14,
   "metadata": {},
   "outputs": [
    {
     "data": {
      "text/plain": [
       "     fun: -1.0746612059743577\n",
       " message: 'Optimization terminated successfully.'\n",
       "    nfev: 122\n",
       "     nit: 7\n",
       " success: True\n",
       "       x: array([0.04297717])"
      ]
     },
     "execution_count": 14,
     "metadata": {},
     "output_type": "execute_result"
    }
   ],
   "source": [
    "from scipy.optimize import differential_evolution\n",
    "\n",
    "res = y_train.join(train_probs.rename(\"probs\"))\n",
    "optimization = differential_evolution(lambda c: -((res.probs > c[0]) * res.margen / res.margen.sum()).sum(), [(0, 1)])\n",
    "optimization"
   ]
  },
  {
   "cell_type": "markdown",
   "metadata": {},
   "source": [
    "## Guardado del modelo para hacer la presentación"
   ]
  },
  {
   "cell_type": "code",
   "execution_count": 15,
   "metadata": {},
   "outputs": [],
   "source": [
    "test_preds = (test_probs > optimization[\"x\"][0]).astype(int)\n",
    "test_preds.index.name=\"prediction_id\"\n",
    "test_preds.name=\"class\"\n",
    "test_preds.to_csv(\"benchmark1.csv\", header=True)"
   ]
  }
 ],
 "metadata": {
  "kernelspec": {
   "display_name": "Python 3",
   "language": "python",
   "name": "python3"
  },
  "language_info": {
   "codemirror_mode": {
    "name": "ipython",
    "version": 3
   },
   "file_extension": ".py",
   "mimetype": "text/x-python",
   "name": "python",
   "nbconvert_exporter": "python",
   "pygments_lexer": "ipython3",
   "version": "3.6.6"
  }
 },
 "nbformat": 4,
 "nbformat_minor": 1
}
